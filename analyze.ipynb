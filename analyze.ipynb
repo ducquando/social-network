{
 "cells": [
  {
   "cell_type": "code",
   "execution_count": 1,
   "metadata": {},
   "outputs": [],
   "source": [
    "# Set autoreload libraries every time before executing\n",
    "%load_ext autoreload\n",
    "%autoreload 2\n",
    "\n",
    "# Import libraries\n",
    "from utils.helper import get_fanatics, get_indegree, get_data\n",
    "from utils.visualize import visualize_coevolution, visualize_clustering_coeff, visualize_indegree, line_plot, visualize_graph, animate_network"
   ]
  },
  {
   "cell_type": "markdown",
   "metadata": {},
   "source": [
    "# Load simulation results"
   ]
  },
  {
   "cell_type": "code",
   "execution_count": 2,
   "metadata": {},
   "outputs": [],
   "source": [
    "# Change the date time to the date time of the pickle file you want to load\n",
    "DATE = '241001'\n",
    "TIME = '1455'\n",
    "data_fanatics, data_no_fanatics = get_data(DATE, TIME)"
   ]
  },
  {
   "cell_type": "markdown",
   "metadata": {},
   "source": [
    "### Last network"
   ]
  },
  {
   "cell_type": "code",
   "execution_count": 3,
   "metadata": {},
   "outputs": [],
   "source": [
    "# Add the last network and belief to the data_fanatics DataFrame\n",
    "data_fanatics['last_network'] = data_fanatics['network_array'].apply(lambda x: x[-1])\n",
    "data_fanatics['last_belief'] = data_fanatics['belief_array'].apply(lambda x: x[-1])\n",
    "\n",
    "# Add the last network and belief to the data_non_fanatics DataFrame\n",
    "data_no_fanatics['last_network'] = data_no_fanatics['network_array'].apply(lambda x: x[-1])\n",
    "data_no_fanatics['last_belief'] = data_no_fanatics['belief_array'].apply(lambda x: x[-1])"
   ]
  },
  {
   "cell_type": "markdown",
   "metadata": {},
   "source": [
    "### In-degree"
   ]
  },
  {
   "cell_type": "code",
   "execution_count": 4,
   "metadata": {},
   "outputs": [],
   "source": [
    "data_fanatics['last_indegree'] = data_fanatics['last_network'].apply(lambda x: get_indegree(x))\n",
    "data_no_fanatics['last_indegree'] = data_no_fanatics['last_network'].apply(lambda x: get_indegree(x))"
   ]
  },
  {
   "cell_type": "markdown",
   "metadata": {},
   "source": [
    "### Split dataset"
   ]
  },
  {
   "cell_type": "markdown",
   "metadata": {},
   "source": [
    "3 datasets\n",
    "- `fanatics_scheme == 'max'`: all fanatics have a belief of 1.\n",
    "- `fanatics_scheme == 'min-max'`: half of the fanatics have a belief of 0, the other half have a belief of 1.\n",
    "- `fanatics_scheme == 'mean'`: all fanatics have a belief of 0.5."
   ]
  },
  {
   "cell_type": "code",
   "execution_count": null,
   "metadata": {},
   "outputs": [],
   "source": [
    "fanatics_max_low = get_fanatics(data_fanatics, data_no_fanatics, 'max', 0.5)\n",
    "fanatics_max_high = get_fanatics(data_fanatics, data_no_fanatics, 'max', 1)\n",
    "fanatics_min_max_low = get_fanatics(data_fanatics, data_no_fanatics, 'min-max', 0.5)\n",
    "fanatics_min_max_high = get_fanatics(data_fanatics, data_no_fanatics, 'min-max', 1)\n",
    "fanatics_mean_low = get_fanatics(data_fanatics, data_no_fanatics, 'mean', 0.5)\n",
    "fanatics_mean_high = get_fanatics(data_fanatics, data_no_fanatics, 'mean', 1)\n",
    "\n",
    "print(fanatics_max_low.shape, fanatics_min_max_high.shape, fanatics_mean_high.shape)"
   ]
  },
  {
   "cell_type": "markdown",
   "metadata": {},
   "source": [
    "# Analyze results\n"
   ]
  },
  {
   "cell_type": "markdown",
   "metadata": {},
   "source": [
    "## Visuals"
   ]
  },
  {
   "cell_type": "markdown",
   "metadata": {},
   "source": [
    "### Network and Belief Coevolution"
   ]
  },
  {
   "cell_type": "code",
   "execution_count": 6,
   "metadata": {},
   "outputs": [],
   "source": [
    "beta = fanatics_max_low['beta'].unique()\n",
    "for b in beta:\n",
    "    visualize_coevolution(fanatics_max_low, b, DATE, TIME, export=True)\n",
    "\n",
    "beta = fanatics_max_high['beta'].unique()\n",
    "for b in beta:\n",
    "    visualize_coevolution(fanatics_max_high, b, DATE, TIME, export=True)\n",
    "\n",
    "beta = fanatics_min_max_low['beta'].unique()\n",
    "for b in beta:\n",
    "    visualize_coevolution(fanatics_min_max_low, b, DATE, TIME, export=True)\n",
    "\n",
    "beta = fanatics_min_max_high['beta'].unique()\n",
    "for b in beta:\n",
    "    visualize_coevolution(fanatics_min_max_high, b, DATE, TIME, export=True)\n",
    "\n",
    "beta = fanatics_mean_low['beta'].unique()\n",
    "for b in beta:\n",
    "    visualize_coevolution(fanatics_mean_low, b, DATE, TIME, export=True)\n",
    "\n",
    "beta = fanatics_mean_high['beta'].unique()\n",
    "for b in beta:\n",
    "    visualize_coevolution(fanatics_mean_high, b, DATE, TIME, export=True)"
   ]
  },
  {
   "cell_type": "markdown",
   "metadata": {},
   "source": [
    "### Clustering coefficient"
   ]
  },
  {
   "cell_type": "code",
   "execution_count": null,
   "metadata": {},
   "outputs": [],
   "source": [
    "_ = visualize_clustering_coeff(data_fanatics, data_no_fanatics, [\"min-max\", \"max\", \"mean\"], [0.1], num_fanatics=25, switching_prob=0.5, date=DATE, time=TIME, export=True)\n",
    "_ = visualize_clustering_coeff(data_fanatics, data_no_fanatics, [\"min-max\", \"max\", \"mean\"], [0.1], num_fanatics=25, switching_prob=1, date=DATE, time=TIME, export=True)\n",
    "_ = visualize_clustering_coeff(data_fanatics, data_no_fanatics, [\"min-max\", \"max\", \"mean\"], [0.5], num_fanatics=25, switching_prob=0.5, date=DATE, time=TIME, export=True)\n",
    "_ = visualize_clustering_coeff(data_fanatics, data_no_fanatics, [\"min-max\", \"max\", \"mean\"], [0.5], num_fanatics=25, switching_prob=1, date=DATE, time=TIME, export=True)\n",
    "_ = visualize_clustering_coeff(data_fanatics, data_no_fanatics, [\"min-max\", \"max\", \"mean\"], [0.9], num_fanatics=25, switching_prob=0.5, date=DATE, time=TIME, export=True)\n",
    "_ = visualize_clustering_coeff(data_fanatics, data_no_fanatics, [\"min-max\", \"max\", \"mean\"], [0.9], num_fanatics=25, switching_prob=1, date=DATE, time=TIME, export=True)"
   ]
  },
  {
   "cell_type": "markdown",
   "metadata": {},
   "source": [
    "### In-degree"
   ]
  },
  {
   "cell_type": "code",
   "execution_count": null,
   "metadata": {},
   "outputs": [],
   "source": [
    "visualize_indegree(fanatics_max_low, DATE, TIME, export=True)\n",
    "visualize_indegree(fanatics_max_high, DATE, TIME, export=True)\n",
    "visualize_indegree(fanatics_min_max_low, DATE, TIME, export=True)\n",
    "visualize_indegree(fanatics_min_max_high, DATE, TIME, export=True)\n",
    "visualize_indegree(fanatics_mean_low, DATE, TIME, export=True)\n",
    "visualize_indegree(fanatics_mean_high, DATE, TIME, export=True)"
   ]
  },
  {
   "cell_type": "markdown",
   "metadata": {},
   "source": [
    "### Metrics"
   ]
  },
  {
   "cell_type": "code",
   "execution_count": null,
   "metadata": {},
   "outputs": [],
   "source": [
    "metrics= ['MEAN', 'STDEV', 'BIAS', 'ENLITE', 'SECTS', 'CON', 'CLUSTERING_COEFFICIENT', 'MEAN_INDEGREE','MEDIAN_INDEGREE', 'MODE_INDEGREE', 'MIN_INDEGREE', 'MAX_INDEGREE']\n",
    "\n",
    "line_plot(fanatics_max_low, metrics, DATE, TIME, export=True)\n",
    "line_plot(fanatics_max_high, metrics, DATE, TIME, export=True)\n",
    "line_plot(fanatics_min_max_low, metrics, DATE, TIME, export=True)\n",
    "line_plot(fanatics_min_max_high, metrics, DATE, TIME, export=True)\n",
    "line_plot(fanatics_mean_low, metrics, DATE, TIME, export=True)\n",
    "line_plot(fanatics_mean_high, metrics, DATE, TIME, export=True)"
   ]
  },
  {
   "cell_type": "markdown",
   "metadata": {},
   "source": [
    "## Animation"
   ]
  },
  {
   "cell_type": "markdown",
   "metadata": {},
   "source": [
    "### Network"
   ]
  },
  {
   "cell_type": "code",
   "execution_count": 11,
   "metadata": {},
   "outputs": [],
   "source": [
    "# Visualize graphs\n",
    "for s in [fanatics_max_low, fanatics_max_high, fanatics_mean_low, fanatics_mean_high, fanatics_min_max_low, fanatics_min_max_high]:\n",
    "  for b in [0.1, 0.5, 1.0]:\n",
    "    for f in [0, 25, 50, 75, 100]:\n",
    "      network = s[(s['beta'] == b) & (s['num_fanatics'] == f)]['network_array'].reset_index(drop=True)[0]\n",
    "      belief = s[(s['beta'] == b) & (s['num_fanatics'] == f)]['belief_array'].reset_index(drop=True)[0]\n",
    "      scheme = s[\"fanatics_scheme\"].sample().str.cat(sep='')\n",
    "      switching_prob = s[\"switching_prob\"].sample().values[0]\n",
    "      visualize_graph(network, belief, -1, f, scheme, switching_prob, b, DATE, TIME, export=True)"
   ]
  },
  {
   "cell_type": "code",
   "execution_count": 4,
   "metadata": {},
   "outputs": [],
   "source": [
    "# Animate graphs\n",
    "animate_network(fanatics_max_high, 1.0, 50, DATE, TIME)"
   ]
  }
 ],
 "metadata": {
  "kernelspec": {
   "display_name": "Python 3",
   "language": "python",
   "name": "python3"
  },
  "language_info": {
   "codemirror_mode": {
    "name": "ipython",
    "version": 3
   },
   "file_extension": ".py",
   "mimetype": "text/x-python",
   "name": "python",
   "nbconvert_exporter": "python",
   "pygments_lexer": "ipython3",
   "version": "3.12.4"
  },
  "orig_nbformat": 4
 },
 "nbformat": 4,
 "nbformat_minor": 2
}
